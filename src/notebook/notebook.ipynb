{
  "cells": [
    {
      "cell_type": "markdown",
      "metadata": {
        "colab_type": "text",
        "id": "view-in-github"
      },
      "source": [
        "<a href=\"https://colab.research.google.com/github/bayusamudra5502/Matdis-Steganografi/blob/main/src/notebook/notebook.ipynb\" target=\"_parent\"><img src=\"https://colab.research.google.com/assets/colab-badge.svg\" alt=\"Open In Colab\"/></a>"
      ]
    },
    {
      "cell_type": "markdown",
      "metadata": {
        "id": "P-3-BaZMuzp8"
      },
      "source": [
        "# Penerapan Pembangkit Bilangan Acak dalam Steganografi\n",
        "\n",
        "**Oleh Bayu Samudra**\n",
        "\n",
        "Notebook ini merupakan notebook yang digunakan dalam pembuatan makalah. Pada notebook ini, kita akan mencoba menyelami dunia steganografi. Steganografi adalah salah satu teknik menyembunyikan data dalam suatu media. Hal ini cukup berbeda bila dibandingkan dengan kriptografi. Pada kali ini, kita akan mencoba melakukan steganografi pada gambar."
      ]
    },
    {
      "cell_type": "markdown",
      "metadata": {
        "id": "G6TrY3nfvcs-"
      },
      "source": [
        "## Import Library\n",
        "Pada notebook ini, kita akan menggunakan tiga buah library, yaitu numpy, seaborn, dan OpenCV."
      ]
    },
    {
      "cell_type": "code",
      "execution_count": 1,
      "metadata": {
        "id": "awilqjHQSIA9"
      },
      "outputs": [],
      "source": [
        "import numpy as np\n",
        "import seaborn as sns\n",
        "import cv2"
      ]
    },
    {
      "cell_type": "markdown",
      "metadata": {},
      "source": [
        "Berikut ini adalah konfigurasi untuk percobaan ini"
      ]
    },
    {
      "cell_type": "code",
      "execution_count": 2,
      "metadata": {},
      "outputs": [],
      "source": [
        "IMG_INPUT_DIR = \"../img\"\n",
        "IMG_OUTPUT_DIR = \"../img\"\n",
        "OUTPUT_PREFIX = \"SO_\""
      ]
    }
  ],
  "metadata": {
    "colab": {
      "authorship_tag": "ABX9TyPr2g9wvaTc8FuCIWbrprIz",
      "include_colab_link": true,
      "name": "Steganografi.ipynb",
      "provenance": []
    },
    "kernelspec": {
      "display_name": "Python 3",
      "name": "python3"
    },
    "language_info": {
      "codemirror_mode": {
        "name": "ipython",
        "version": 3
      },
      "file_extension": ".py",
      "mimetype": "text/x-python",
      "name": "python",
      "nbconvert_exporter": "python",
      "pygments_lexer": "ipython3",
      "version": "3.9.7"
    }
  },
  "nbformat": 4,
  "nbformat_minor": 0
}
