{
  "nbformat": 4,
  "nbformat_minor": 0,
  "metadata": {
    "colab": {
      "name": "Steganografi.ipynb",
      "provenance": [],
      "authorship_tag": "ABX9TyPr2g9wvaTc8FuCIWbrprIz",
      "include_colab_link": true
    },
    "kernelspec": {
      "name": "python3",
      "display_name": "Python 3"
    },
    "language_info": {
      "name": "python"
    }
  },
  "cells": [
    {
      "cell_type": "markdown",
      "metadata": {
        "id": "view-in-github",
        "colab_type": "text"
      },
      "source": [
        "<a href=\"https://colab.research.google.com/github/bayusamudra5502/Matdis-Steganografi/blob/main/src/notebook/notebook.ipynb\" target=\"_parent\"><img src=\"https://colab.research.google.com/assets/colab-badge.svg\" alt=\"Open In Colab\"/></a>"
      ]
    },
    {
      "cell_type": "markdown",
      "source": [
        "# Penerapan Pembangkit Bilangan Acak dalam Steganografi\n",
        "\n",
        "**Oleh Bayu Samudra**\n",
        "\n",
        "Notebook ini merupakan notebook yang digunakan dalam pembuatan makalah. Pada notebook ini, kita akan mencoba menyelami dunia steganografi. Steganografi adalah salah satu teknik menyembunyikan data dalam suatu media. Hal ini cukup berbeda bila dibandingkan dengan kriptografi. Pada kali ini, kita akan mencoba melakukan steganografi pada gambar."
      ],
      "metadata": {
        "id": "P-3-BaZMuzp8"
      }
    },
    {
      "cell_type": "markdown",
      "source": [
        "## Import Library\n",
        "Pada notebook ini, kita akan menggunakan tiga buah library, yaitu numpy, seaborn, dan OpenCV."
      ],
      "metadata": {
        "id": "G6TrY3nfvcs-"
      }
    },
    {
      "cell_type": "code",
      "execution_count": null,
      "metadata": {
        "id": "awilqjHQSIA9"
      },
      "outputs": [],
      "source": [
        "import numpy as np\n",
        "import seaborn as sns\n",
        "import cv2"
      ]
    },
    {
      "cell_type": "code",
      "source": [
        ""
      ],
      "metadata": {
        "id": "1syn9tztuzGa"
      },
      "execution_count": null,
      "outputs": []
    }
  ]
}